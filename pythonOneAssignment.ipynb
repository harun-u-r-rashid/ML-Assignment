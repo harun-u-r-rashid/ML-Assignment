{
 "cells": [
  {
   "cell_type": "markdown",
   "id": "26c0b05a",
   "metadata": {},
   "source": [
    "1. Find the largest of two numbers"
   ]
  },
  {
   "cell_type": "code",
   "execution_count": 2,
   "id": "9f4e28dd",
   "metadata": {},
   "outputs": [
    {
     "name": "stdout",
     "output_type": "stream",
     "text": [
      "5\n"
     ]
    }
   ],
   "source": [
    "a = int(input(\"Enter the value of a : \"))\n",
    "b = int(input(\"Enter the value of b : \"))\n",
    "\n",
    "if a>b:\n",
    "        print(a)\n",
    "        \n",
    "else:\n",
    "        print(b)\n"
   ]
  },
  {
   "cell_type": "markdown",
   "id": "027c50aa",
   "metadata": {},
   "source": [
    "2. Print numbers from 1 to N"
   ]
  },
  {
   "cell_type": "code",
   "execution_count": null,
   "id": "05a50795",
   "metadata": {},
   "outputs": [],
   "source": [
    "n = int(input(\"Enter a number: \"))\n",
    "\n",
    "for i in range(n):\n",
    "        print(i+1)"
   ]
  },
  {
   "cell_type": "markdown",
   "id": "23908c42",
   "metadata": {},
   "source": [
    "3. Check if a number is positive or negative"
   ]
  },
  {
   "cell_type": "code",
   "execution_count": 6,
   "id": "064c343b",
   "metadata": {},
   "outputs": [
    {
     "name": "stdout",
     "output_type": "stream",
     "text": [
      "The number is Negative\n"
     ]
    }
   ],
   "source": [
    "a = int(input(\"Enter a number:\"))\n",
    "\n",
    "if a>0:\n",
    "        print(\"The number is Positive.\")\n",
    "elif a<0:\n",
    "        print(\"The number is Negative\")\n",
    "else:\n",
    "        print(\"The number is Zero\")\n",
    "        "
   ]
  },
  {
   "cell_type": "markdown",
   "id": "30d25f2a",
   "metadata": {},
   "source": [
    "4. Calculate the sum of digit"
   ]
  },
  {
   "cell_type": "code",
   "execution_count": 16,
   "id": "c562fa19",
   "metadata": {},
   "outputs": [
    {
     "name": "stdout",
     "output_type": "stream",
     "text": [
      "2\n"
     ]
    }
   ],
   "source": [
    "a = int(input(\"Enter a digit: \"))\n",
    "sum = 0\n",
    "\n",
    "while(a!=0):\n",
    "        x = a%10\n",
    "     \n",
    "        a=int(a/10)\n",
    "        \n",
    "        sum+=x\n",
    "        \n",
    "print(sum)\n",
    "\n",
    "        "
   ]
  },
  {
   "cell_type": "markdown",
   "id": "875684e8",
   "metadata": {},
   "source": [
    "5. Factorial of a number"
   ]
  },
  {
   "cell_type": "code",
   "execution_count": 20,
   "id": "0af79e57",
   "metadata": {},
   "outputs": [
    {
     "name": "stdout",
     "output_type": "stream",
     "text": [
      "3628800\n"
     ]
    }
   ],
   "source": [
    "a = int(input(\"Enter a number:\"))\n",
    "\n",
    "fact = 1\n",
    "for i in range(a):\n",
    "        fact  = fact*(i+1)\n",
    "\n",
    "\n",
    "print(fact)\n",
    "        "
   ]
  },
  {
   "cell_type": "markdown",
   "id": "87d513f6",
   "metadata": {},
   "source": [
    "6. Count occurrences of a digit"
   ]
  },
  {
   "cell_type": "code",
   "execution_count": null,
   "id": "3b713e1c",
   "metadata": {},
   "outputs": [
    {
     "name": "stdout",
     "output_type": "stream",
     "text": [
      "9\n"
     ]
    }
   ],
   "source": [
    "a = str(input(\"Enter a digit string: \"))\n",
    "\n",
    "max_count = 0\n",
    "\n",
    "for i in range(len(a)):\n",
    "        count = 0\n",
    "        for j in range(len(a)):\n",
    "                if a[i]==a[j]:\n",
    "                        count+=1\n",
    "                        \n",
    "        if count>max_count:\n",
    "                max_count=count\n",
    "                         \n",
    "print(max_count)\n",
    "\n",
    "\n",
    "        \n",
    "\n"
   ]
  },
  {
   "cell_type": "markdown",
   "id": "02090039",
   "metadata": {},
   "source": [
    "7. Find the GCD of Two numbers\n"
   ]
  },
  {
   "cell_type": "code",
   "execution_count": null,
   "id": "f79a751a",
   "metadata": {},
   "outputs": [
    {
     "name": "stdout",
     "output_type": "stream",
     "text": [
      "1\n",
      "1\n"
     ]
    }
   ],
   "source": [
    "a = int(input(\"Enter first number:\"))\n",
    "\n",
    "b = int(input(\"Enter second number:\"))\n",
    "\n",
    "\n",
    "small = min(a, b)\n",
    "\n",
    "gcd = 1\n",
    "\n",
    "for i in range(small, 0, -1):\n",
    "    if a % i == 0 and b % i == 0:\n",
    "        gcd = i\n",
    "        break\n",
    "\n",
    "\n",
    "print(gcd)"
   ]
  },
  {
   "cell_type": "markdown",
   "id": "fe9831db",
   "metadata": {},
   "source": [
    "8. Reverse a string"
   ]
  },
  {
   "cell_type": "code",
   "execution_count": null,
   "id": "02e2a5e1",
   "metadata": {},
   "outputs": [],
   "source": [
    "s = str(input(\"Enter a string\"))\n",
    "\n",
    "reverse = \"\"\n",
    "\n",
    "for i in range(len(s)-1, -1, -1):\n",
    "      \n",
    "        reverse+=s[i]\n",
    "        \n",
    "print(reverse)\n",
    "        \n"
   ]
  },
  {
   "cell_type": "markdown",
   "id": "20921511",
   "metadata": {},
   "source": [
    "9. Check ArmStrong Number\n"
   ]
  },
  {
   "cell_type": "code",
   "execution_count": null,
   "id": "a39776a4",
   "metadata": {},
   "outputs": [],
   "source": [
    "a = int(input(\"Enter a number: \"))\n",
    "\n",
    "b = a\n",
    "sum = 0\n",
    "\n",
    "while a != 0:\n",
    "    n = a % 10\n",
    "    sum += n**3\n",
    "    a = int(a / 10)\n",
    "\n",
    "\n",
    "if b == sum:\n",
    "    print(b, \" is an ArmStrong Number.\")\n",
    "else:\n",
    "    print(b, \" is not an ArmStrong Number.\")\n"
   ]
  },
  {
   "cell_type": "markdown",
   "id": "7a67e449",
   "metadata": {},
   "source": [
    "10. Generate a pattern\n"
   ]
  },
  {
   "cell_type": "code",
   "execution_count": 68,
   "id": "f3f6ba34",
   "metadata": {},
   "outputs": [
    {
     "name": "stdout",
     "output_type": "stream",
     "text": [
      "    \n",
      "   **\n",
      "  ****\n",
      " ******\n",
      "********\n"
     ]
    }
   ],
   "source": [
    "a = int(input(\"Enter a number: \"))\n",
    "\n",
    "for i in range(1, a+1):\n",
    "        for j in range(a-i):\n",
    "                print(\" \", end=\"\")\n",
    "        for k in range(1, 2*i-1):\n",
    "                print(\"*\", end=\"\")\n",
    "        print()\n",
    "        \n",
    "        \n",
    "        \n",
    "        "
   ]
  }
 ],
 "metadata": {
  "kernelspec": {
   "display_name": "base",
   "language": "python",
   "name": "python3"
  },
  "language_info": {
   "codemirror_mode": {
    "name": "ipython",
    "version": 3
   },
   "file_extension": ".py",
   "mimetype": "text/x-python",
   "name": "python",
   "nbconvert_exporter": "python",
   "pygments_lexer": "ipython3",
   "version": "3.12.7"
  }
 },
 "nbformat": 4,
 "nbformat_minor": 5
}
